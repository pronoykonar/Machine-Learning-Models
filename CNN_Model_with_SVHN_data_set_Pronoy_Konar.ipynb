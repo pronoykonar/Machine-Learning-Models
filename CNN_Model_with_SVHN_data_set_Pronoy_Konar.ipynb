{
  "nbformat": 4,
  "nbformat_minor": 0,
  "metadata": {
    "colab": {
      "name": "CNN Model with SVHN data set Pronoy Konar.ipynb",
      "provenance": [],
      "collapsed_sections": []
    },
    "kernelspec": {
      "name": "python3",
      "display_name": "Python 3"
    },
    "accelerator": "GPU"
  },
  "cells": [
    {
      "cell_type": "markdown",
      "metadata": {
        "id": "x1PB_djNHAOx",
        "colab_type": "text"
      },
      "source": [
        "# Neural Networks Project  using the SVHN dataset"
      ]
    },
    {
      "cell_type": "markdown",
      "metadata": {
        "id": "iutjhfJ9HcGt",
        "colab_type": "text"
      },
      "source": [
        "# The Problem Description: \n",
        "Recognizing multi-digit numbers in photographs captured at street level is an important component of modern-day map making. A classic example of a corpus of such street level photographs is Google’s Street View imagery comprised of hundreds of millions of geo-located 360 degree panoramic images. The ability to automatically transcribe an address number from a geolocated patch of pixels and associate the transcribed number with a known street address helps pinpoint, with a high degree of accuracy, the location of the building it represents. \n",
        " \n",
        "More broadly, recognizing numbers in photographs is a problem of interest to the optical character recognition community. While OCR on constrained domains like document processing is well studied, arbitrary multi-character text recognition in photographs is still highly challenging. This difficulty arises due to the wide variability in the visual appearance of text in the wild on account of a large range of fonts, colours, styles, orientations, and character arrangements. The recognition problem is further complicated by environmental factors such as lighting, shadows, secularities, and occlusions as well as by image acquisition factors such as resolution, motion, and focus blurs. \n",
        " \n",
        "In this project we will use dataset with images centred around a single digit (many of the images do contain some distractors at the sides). Although we are taking a sample of the data which is simpler, it is more complex than MNIST because of the distractors. "
      ]
    },
    {
      "cell_type": "markdown",
      "metadata": {
        "id": "cZQLV29NHnxA",
        "colab_type": "text"
      },
      "source": [
        "# Data Description:  \n",
        "The Street View House Numbers (SVHN) Dataset \n",
        "SVHN is a real-world image dataset for developing machine learning and object recognition algorithms with minimal requirement on data formatting but comes from a significantly harder, unsolved, real world problem (recognizing digits and numbers in natural scene images). SVHN is obtained from house numbers in Google Street View images. \n",
        "## Link to the dataset: \n",
        "https://drive.google.com/file/d/1L2-WXzguhUsCArrFUc8EEkXcj33pahoS/view?usp=sharing \n",
        "## Acknowledgement for the datasets. \n",
        "Yuval Netzer, Tao Wang, Adam Coates, Alessandro Bissacco, Bo Wu, Andrew Y. Ng Reading Digits in Natural Images with Unsupervised Feature Learning NIPS Workshop on Deep Learning and Unsupervised Feature Learning 2011. PDF  http://ufldl.stanford.edu/housenumbers as the URL for this site when necessary \n"
      ]
    },
    {
      "cell_type": "markdown",
      "metadata": {
        "id": "yFLGis3gNyev",
        "colab_type": "text"
      },
      "source": [
        "## Objective: \n",
        "The objective of the project is to learn how to implement a simple image classification pipeline based on a deep neural network. The goals of this project are as follows:  \n",
        " \n",
        "1. Understand the basic Image Classification pipeline and the data-driven approach (train/predict stages) \n",
        "2. Data fetching and understand the train/val/test splits.\n",
        "3. Implement and apply a deep neural network classifier including (feedforward neural network, RELU, activations)\n",
        "4. Implement batch normalization for training the neural network\n",
        "6. Print the classification accuracy metrics"
      ]
    },
    {
      "cell_type": "markdown",
      "metadata": {
        "id": "GWrYiNrhOR8v",
        "colab_type": "text"
      },
      "source": [
        "## Loading the Libraries"
      ]
    },
    {
      "cell_type": "code",
      "metadata": {
        "id": "qBT05QK0QMMA",
        "colab_type": "code",
        "colab": {}
      },
      "source": [
        "from __future__ import absolute_import\n",
        "from __future__ import print_function\n",
        "import os\n",
        "import time\n",
        "from datetime import timedelta\n",
        "import h5py\n",
        "import numpy as np\n",
        "import tensorflow as tf\n",
        "import matplotlib.pyplot as plt\n",
        "import seaborn as sns\n",
        "from tensorflow.keras.models import Sequential\n",
        "from tensorflow.keras.utils import to_categorical\n",
        "import pandas.util.testing as tm"
      ],
      "execution_count": 0,
      "outputs": []
    },
    {
      "cell_type": "code",
      "metadata": {
        "id": "vUYGEoK-_2zy",
        "colab_type": "code",
        "colab": {}
      },
      "source": [
        "from google.colab import drive\n",
        "drive.mount('/content/drive')"
      ],
      "execution_count": 0,
      "outputs": []
    },
    {
      "cell_type": "markdown",
      "metadata": {
        "id": "nJmrfPZbBhK8",
        "colab_type": "text"
      },
      "source": [
        "### Loading the dataset and understanding the  basic Image Classification pipeline and the data-driven approach (train/predict stages)"
      ]
    },
    {
      "cell_type": "code",
      "metadata": {
        "id": "DncjRAnuQ7Gz",
        "colab_type": "code",
        "outputId": "0e8f41b5-8363-4730-b126-d90c884b19a7",
        "colab": {
          "base_uri": "https://localhost:8080/",
          "height": 70
        }
      },
      "source": [
        "# Open the file as readonly\n",
        "h5f = h5py.File('/content/drive/My Drive/Colab Notebooks/SVHN_single_grey1.h5', 'r')\n",
        "\n",
        "# Load the training, test and validation set\n",
        "X_train = h5f['X_train'][:]\n",
        "y_train = h5f['y_train'][:]\n",
        "X_test = h5f['X_test'][:]\n",
        "y_test = h5f['y_test'][:]\n",
        "X_val = h5f['X_val'][:]\n",
        "y_val = h5f['y_val'][:]\n",
        "\n",
        "# Close this file\n",
        "h5f.close()\n",
        "\n",
        "print('Training set', X_train.shape, y_train.shape)\n",
        "print('Validation set', X_val.shape, y_val.shape)\n",
        "print('Test set', X_test.shape, y_test.shape)"
      ],
      "execution_count": 0,
      "outputs": [
        {
          "output_type": "stream",
          "text": [
            "Training set (42000, 32, 32) (42000,)\n",
            "Validation set (60000, 32, 32) (60000,)\n",
            "Test set (18000, 32, 32) (18000,)\n"
          ],
          "name": "stdout"
        }
      ]
    },
    {
      "cell_type": "markdown",
      "metadata": {
        "id": "IADSAT_MC_69",
        "colab_type": "text"
      },
      "source": [
        "### Data fetching and understand the train/val/test splits."
      ]
    },
    {
      "cell_type": "code",
      "metadata": {
        "id": "Qgm6RmkKDX07",
        "colab_type": "code",
        "outputId": "538c38b2-7835-43eb-fbfb-3c32cd7acd7f",
        "colab": {
          "base_uri": "https://localhost:8080/",
          "height": 284
        }
      },
      "source": [
        "plt.imshow(X_train[0])    # show first number in the training dataset\n",
        "plt.show()\n",
        "print('Label: ', y_train[0])"
      ],
      "execution_count": 0,
      "outputs": [
        {
          "output_type": "display_data",
          "data": {
            "image/png": "[encoded data removed]",
            "text/plain": [
              "<Figure size 432x288 with 1 Axes>"
            ]
          },
          "metadata": {
            "tags": [],
            "needs_background": "light"
          }
        },
        {
          "output_type": "stream",
          "text": [
            "Label:  2\n"
          ],
          "name": "stdout"
        }
      ]
    },
    {
      "cell_type": "code",
      "metadata": {
        "id": "mv3PxINADhCy",
        "colab_type": "code",
        "outputId": "2b59959e-c0ce-4044-8014-0f23e874868b",
        "colab": {
          "base_uri": "https://localhost:8080/",
          "height": 95
        }
      },
      "source": [
        "%matplotlib inline\n",
        "import matplotlib.pyplot as plt\n",
        "plt.figure(figsize=(10, 1))\n",
        "for i in range(10):\n",
        "    plt.subplot(1, 10, i+1)\n",
        "    plt.imshow(X_train[i].reshape(32, 32), cmap=\"gray\")\n",
        "    plt.axis('off')\n",
        "plt.show()\n",
        "print('label for each of the above image: %s' % (y_train[0:10]))"
      ],
      "execution_count": 0,
      "outputs": [
        {
          "output_type": "display_data",
          "data": {
            "image/png": "[encoded data removed]",
            "text/plain": [
              "<Figure size 720x72 with 10 Axes>"
            ]
          },
          "metadata": {
            "tags": [],
            "needs_background": "light"
          }
        },
        {
          "output_type": "stream",
          "text": [
            "label for each of the above image: [2 6 7 4 4 0 3 0 7 3]\n"
          ],
          "name": "stdout"
        }
      ]
    },
    {
      "cell_type": "code",
      "metadata": {
        "id": "ZCQ-VDpLDomD",
        "colab_type": "code",
        "outputId": "b653c1ee-ed7d-448f-8b52-ebda9ba4e2a9",
        "colab": {
          "base_uri": "https://localhost:8080/",
          "height": 284
        }
      },
      "source": [
        "plt.imshow(X_test[0])    # show first number in the test dataset\n",
        "plt.show()\n",
        "print('Label: ', y_test[0])"
      ],
      "execution_count": 0,
      "outputs": [
        {
          "output_type": "display_data",
          "data": {
            "image/png": "[encoded data removed]",
            "text/plain": [
              "<Figure size 432x288 with 1 Axes>"
            ]
          },
          "metadata": {
            "tags": [],
            "needs_background": "light"
          }
        },
        {
          "output_type": "stream",
          "text": [
            "Label:  1\n"
          ],
          "name": "stdout"
        }
      ]
    },
    {
      "cell_type": "code",
      "metadata": {
        "id": "jqxrjUpO7gZl",
        "colab_type": "code",
        "outputId": "91ff1818-48dd-4e08-cf38-891d1e3671f1",
        "colab": {
          "base_uri": "https://localhost:8080/",
          "height": 95
        }
      },
      "source": [
        "%matplotlib inline\n",
        "import matplotlib.pyplot as plt\n",
        "plt.figure(figsize=(10, 1))\n",
        "for i in range(10):\n",
        "    plt.subplot(1, 10, i+1)\n",
        "    plt.imshow(X_test[i].reshape(32, 32), cmap=\"gray\")\n",
        "    plt.axis('off')\n",
        "plt.show()\n",
        "print('label for each of the above image: %s' % (y_test[0:10]))"
      ],
      "execution_count": 0,
      "outputs": [
        {
          "output_type": "display_data",
          "data": {
            "image/png": "[encoded data removed]",
            "text/plain": [
              "<Figure size 720x72 with 10 Axes>"
            ]
          },
          "metadata": {
            "tags": [],
            "needs_background": "light"
          }
        },
        {
          "output_type": "stream",
          "text": [
            "label for each of the above image: [1 7 2 9 0 9 1 8 4 4]\n"
          ],
          "name": "stdout"
        }
      ]
    },
    {
      "cell_type": "code",
      "metadata": {
        "id": "G3e0500T8GhI",
        "colab_type": "code",
        "outputId": "86d88d10-a4c5-4ad7-8420-a759181ec0ca",
        "colab": {
          "base_uri": "https://localhost:8080/",
          "height": 284
        }
      },
      "source": [
        "plt.imshow(X_val[0])    # show first number in the training dataset\n",
        "plt.show()\n",
        "print('Label: ', y_val[0])"
      ],
      "execution_count": 0,
      "outputs": [
        {
          "output_type": "display_data",
          "data": {
            "image/png": "[encoded data removed]",
            "text/plain": [
              "<Figure size 432x288 with 1 Axes>"
            ]
          },
          "metadata": {
            "tags": [],
            "needs_background": "light"
          }
        },
        {
          "output_type": "stream",
          "text": [
            "Label:  0\n"
          ],
          "name": "stdout"
        }
      ]
    },
    {
      "cell_type": "code",
      "metadata": {
        "id": "IZrqjLGC8OuR",
        "colab_type": "code",
        "outputId": "613858af-6cd1-4767-c422-9171425ebdc4",
        "colab": {
          "base_uri": "https://localhost:8080/",
          "height": 95
        }
      },
      "source": [
        "%matplotlib inline\n",
        "import matplotlib.pyplot as plt\n",
        "plt.figure(figsize=(10, 1))\n",
        "for i in range(10):\n",
        "    plt.subplot(1, 10, i+1)\n",
        "    plt.imshow(X_val[i].reshape(32, 32), cmap=\"gray\")\n",
        "    plt.axis('off')\n",
        "plt.show()\n",
        "print('label for each of the above image: %s' % (y_val[0:10]))"
      ],
      "execution_count": 0,
      "outputs": [
        {
          "output_type": "display_data",
          "data": {
            "image/png": "[encoded data removed]",
            "text/plain": [
              "<Figure size 720x72 with 10 Axes>"
            ]
          },
          "metadata": {
            "tags": [],
            "needs_background": "light"
          }
        },
        {
          "output_type": "stream",
          "text": [
            "label for each of the above image: [0 0 0 0 0 0 0 0 0 0]\n"
          ],
          "name": "stdout"
        }
      ]
    },
    {
      "cell_type": "markdown",
      "metadata": {
        "id": "URIJRuylEQG9",
        "colab_type": "text"
      },
      "source": [
        "### Data PreProcessing"
      ]
    },
    {
      "cell_type": "code",
      "metadata": {
        "id": "7TsxSIWdESXG",
        "colab_type": "code",
        "colab": {}
      },
      "source": [
        "# Reshaping the data\n",
        "X_train = X_train.reshape((X_train.shape[0], -1))\n",
        "X_test = X_test.reshape((X_test.shape[0], -1))"
      ],
      "execution_count": 0,
      "outputs": []
    },
    {
      "cell_type": "code",
      "metadata": {
        "id": "ZkqvufPqEdSU",
        "colab_type": "code",
        "colab": {}
      },
      "source": [
        "# converting y data into categorical\n",
        "y_train = to_categorical(y_train)\n",
        "y_test = to_categorical(y_test)"
      ],
      "execution_count": 0,
      "outputs": []
    },
    {
      "cell_type": "code",
      "metadata": {
        "id": "pibpEOS8EiAR",
        "colab_type": "code",
        "outputId": "c08c66c5-9124-4466-fc12-65b7dea8bbff",
        "colab": {
          "base_uri": "https://localhost:8080/",
          "height": 35
        }
      },
      "source": [
        "print(X_train.shape, X_test.shape, y_train.shape, y_test.shape)"
      ],
      "execution_count": 0,
      "outputs": [
        {
          "output_type": "stream",
          "text": [
            "(42000, 1024) (18000, 1024) (42000, 10) (18000, 10)\n"
          ],
          "name": "stdout"
        }
      ]
    },
    {
      "cell_type": "markdown",
      "metadata": {
        "id": "LWanYex6FBlO",
        "colab_type": "text"
      },
      "source": [
        "# Buiding the CNN Model\n",
        "Implementing and applying a deep neural network classifier including (feedforward neural network, RELU, activations)"
      ]
    },
    {
      "cell_type": "code",
      "metadata": {
        "id": "fgLVRiVLFVkx",
        "colab_type": "code",
        "colab": {}
      },
      "source": [
        "from tensorflow.keras.models import Sequential\n",
        "from tensorflow.keras.layers import Activation, Dense\n",
        "from tensorflow.keras import optimizers"
      ],
      "execution_count": 0,
      "outputs": []
    },
    {
      "cell_type": "code",
      "metadata": {
        "id": "Wq9wOoI5FdWm",
        "colab_type": "code",
        "colab": {}
      },
      "source": [
        "model = Sequential()"
      ],
      "execution_count": 0,
      "outputs": []
    },
    {
      "cell_type": "code",
      "metadata": {
        "id": "GCgjHW5hFhfS",
        "colab_type": "code",
        "colab": {}
      },
      "source": [
        "  model.add(Dense(50, input_shape = (1024, )))\n",
        "  model.add(Activation('sigmoid'))\n",
        "  model.add(Dense(50))\n",
        "  model.add(Activation('sigmoid'))\n",
        "  model.add(Dense(50))\n",
        "  model.add(Activation('sigmoid'))\n",
        "  model.add(Dense(50))\n",
        "  model.add(Activation('sigmoid'))\n",
        "  model.add(Dense(10))\n",
        "  model.add(Activation('softmax'))"
      ],
      "execution_count": 0,
      "outputs": []
    },
    {
      "cell_type": "code",
      "metadata": {
        "id": "r06tQ3MLF_kh",
        "colab_type": "code",
        "colab": {}
      },
      "source": [
        "sigd = optimizers.SGD(lr = 0.01)\n",
        "model.compile(optimizer = sigd, loss = 'categorical_crossentropy', metrics = ['accuracy'])"
      ],
      "execution_count": 0,
      "outputs": []
    },
    {
      "cell_type": "code",
      "metadata": {
        "id": "T6pFaFJbGAZb",
        "colab_type": "code",
        "outputId": "f27af7ee-14d0-4a7d-87ea-cf2e1afbca72",
        "colab": {
          "base_uri": "https://localhost:8080/",
          "height": 1000
        }
      },
      "source": [
        "history = model.fit(X_train, y_train, batch_size = 200, epochs = 100, verbose = 1)"
      ],
      "execution_count": 0,
      "outputs": [
        {
          "output_type": "stream",
          "text": [
            "Epoch 1/100\n",
            "210/210 [==============================] - 1s 4ms/step - loss: 2.3327 - accuracy: 0.1009\n",
            "Epoch 2/100\n",
            "210/210 [==============================] - 1s 4ms/step - loss: 2.3028 - accuracy: 0.0990\n",
            "Epoch 3/100\n",
            "210/210 [==============================] - 1s 4ms/step - loss: 2.3027 - accuracy: 0.1019\n",
            "Epoch 4/100\n",
            "210/210 [==============================] - 1s 4ms/step - loss: 2.3027 - accuracy: 0.0987\n",
            "Epoch 5/100\n",
            "210/210 [==============================] - 1s 4ms/step - loss: 2.3027 - accuracy: 0.0998\n",
            "Epoch 6/100\n",
            "210/210 [==============================] - 1s 4ms/step - loss: 2.3027 - accuracy: 0.1013\n",
            "Epoch 7/100\n",
            "210/210 [==============================] - 1s 4ms/step - loss: 2.3026 - accuracy: 0.1029\n",
            "Epoch 8/100\n",
            "210/210 [==============================] - 1s 4ms/step - loss: 2.3026 - accuracy: 0.1023\n",
            "Epoch 9/100\n",
            "210/210 [==============================] - 1s 4ms/step - loss: 2.3026 - accuracy: 0.1019\n",
            "Epoch 10/100\n",
            "210/210 [==============================] - 1s 4ms/step - loss: 2.3026 - accuracy: 0.1020\n",
            "Epoch 11/100\n",
            "210/210 [==============================] - 1s 4ms/step - loss: 2.3025 - accuracy: 0.1005\n",
            "Epoch 12/100\n",
            "210/210 [==============================] - 1s 4ms/step - loss: 2.3026 - accuracy: 0.1013\n",
            "Epoch 13/100\n",
            "210/210 [==============================] - 1s 4ms/step - loss: 2.3025 - accuracy: 0.1004\n",
            "Epoch 14/100\n",
            "210/210 [==============================] - 1s 4ms/step - loss: 2.3025 - accuracy: 0.1019\n",
            "Epoch 15/100\n",
            "210/210 [==============================] - 1s 4ms/step - loss: 2.3025 - accuracy: 0.1026\n",
            "Epoch 16/100\n",
            "210/210 [==============================] - 1s 4ms/step - loss: 2.3025 - accuracy: 0.1006\n",
            "Epoch 17/100\n",
            "210/210 [==============================] - 1s 4ms/step - loss: 2.3025 - accuracy: 0.1023\n",
            "Epoch 18/100\n",
            "210/210 [==============================] - 1s 4ms/step - loss: 2.3025 - accuracy: 0.1037\n",
            "Epoch 19/100\n",
            "210/210 [==============================] - 1s 4ms/step - loss: 2.3024 - accuracy: 0.0999\n",
            "Epoch 20/100\n",
            "210/210 [==============================] - 1s 4ms/step - loss: 2.3024 - accuracy: 0.1019\n",
            "Epoch 21/100\n",
            "210/210 [==============================] - 1s 4ms/step - loss: 2.3024 - accuracy: 0.1028\n",
            "Epoch 22/100\n",
            "210/210 [==============================] - 1s 4ms/step - loss: 2.3024 - accuracy: 0.1025\n",
            "Epoch 23/100\n",
            "210/210 [==============================] - 1s 4ms/step - loss: 2.3024 - accuracy: 0.1035\n",
            "Epoch 24/100\n",
            "210/210 [==============================] - 1s 4ms/step - loss: 2.3024 - accuracy: 0.1017\n",
            "Epoch 25/100\n",
            "210/210 [==============================] - 1s 4ms/step - loss: 2.3023 - accuracy: 0.1020\n",
            "Epoch 26/100\n",
            "210/210 [==============================] - 1s 4ms/step - loss: 2.3024 - accuracy: 0.1034\n",
            "Epoch 27/100\n",
            "210/210 [==============================] - 1s 4ms/step - loss: 2.3023 - accuracy: 0.1029\n",
            "Epoch 28/100\n",
            "210/210 [==============================] - 1s 4ms/step - loss: 2.3023 - accuracy: 0.1043\n",
            "Epoch 29/100\n",
            "210/210 [==============================] - 1s 4ms/step - loss: 2.3023 - accuracy: 0.1036\n",
            "Epoch 30/100\n",
            "210/210 [==============================] - 1s 4ms/step - loss: 2.3022 - accuracy: 0.1044\n",
            "Epoch 31/100\n",
            "210/210 [==============================] - 1s 4ms/step - loss: 2.3022 - accuracy: 0.1055\n",
            "Epoch 32/100\n",
            "210/210 [==============================] - 1s 4ms/step - loss: 2.3022 - accuracy: 0.1046\n",
            "Epoch 33/100\n",
            "210/210 [==============================] - 1s 4ms/step - loss: 2.3021 - accuracy: 0.1058\n",
            "Epoch 34/100\n",
            "210/210 [==============================] - 1s 4ms/step - loss: 2.3022 - accuracy: 0.1045\n",
            "Epoch 35/100\n",
            "210/210 [==============================] - 1s 4ms/step - loss: 2.3022 - accuracy: 0.1030\n",
            "Epoch 36/100\n",
            "210/210 [==============================] - 1s 4ms/step - loss: 2.3021 - accuracy: 0.1056\n",
            "Epoch 37/100\n",
            "210/210 [==============================] - 1s 4ms/step - loss: 2.3021 - accuracy: 0.1023\n",
            "Epoch 38/100\n",
            "210/210 [==============================] - 1s 4ms/step - loss: 2.3021 - accuracy: 0.1065\n",
            "Epoch 39/100\n",
            "210/210 [==============================] - 1s 4ms/step - loss: 2.3021 - accuracy: 0.1058\n",
            "Epoch 40/100\n",
            "210/210 [==============================] - 1s 4ms/step - loss: 2.3020 - accuracy: 0.1058\n",
            "Epoch 41/100\n",
            "210/210 [==============================] - 1s 4ms/step - loss: 2.3021 - accuracy: 0.1033\n",
            "Epoch 42/100\n",
            "210/210 [==============================] - 1s 4ms/step - loss: 2.3020 - accuracy: 0.1080\n",
            "Epoch 43/100\n",
            "210/210 [==============================] - 1s 4ms/step - loss: 2.3020 - accuracy: 0.1057\n",
            "Epoch 44/100\n",
            "210/210 [==============================] - 1s 4ms/step - loss: 2.3020 - accuracy: 0.1052\n",
            "Epoch 45/100\n",
            "210/210 [==============================] - 1s 4ms/step - loss: 2.3020 - accuracy: 0.1053\n",
            "Epoch 46/100\n",
            "210/210 [==============================] - 1s 4ms/step - loss: 2.3019 - accuracy: 0.1055\n",
            "Epoch 47/100\n",
            "210/210 [==============================] - 1s 4ms/step - loss: 2.3019 - accuracy: 0.1069\n",
            "Epoch 48/100\n",
            "210/210 [==============================] - 1s 4ms/step - loss: 2.3019 - accuracy: 0.1045\n",
            "Epoch 49/100\n",
            "210/210 [==============================] - 1s 4ms/step - loss: 2.3019 - accuracy: 0.1071\n",
            "Epoch 50/100\n",
            "210/210 [==============================] - 1s 4ms/step - loss: 2.3019 - accuracy: 0.1041\n",
            "Epoch 51/100\n",
            "210/210 [==============================] - 1s 4ms/step - loss: 2.3018 - accuracy: 0.1055\n",
            "Epoch 52/100\n",
            "210/210 [==============================] - 1s 4ms/step - loss: 2.3019 - accuracy: 0.1087\n",
            "Epoch 53/100\n",
            "210/210 [==============================] - 1s 4ms/step - loss: 2.3018 - accuracy: 0.1085\n",
            "Epoch 54/100\n",
            "210/210 [==============================] - 1s 4ms/step - loss: 2.3018 - accuracy: 0.1067\n",
            "Epoch 55/100\n",
            "210/210 [==============================] - 1s 4ms/step - loss: 2.3018 - accuracy: 0.1058\n",
            "Epoch 56/100\n",
            "210/210 [==============================] - 1s 4ms/step - loss: 2.3018 - accuracy: 0.1087\n",
            "Epoch 57/100\n",
            "210/210 [==============================] - 1s 4ms/step - loss: 2.3018 - accuracy: 0.1058\n",
            "Epoch 58/100\n",
            "210/210 [==============================] - 1s 4ms/step - loss: 2.3018 - accuracy: 0.1092\n",
            "Epoch 59/100\n",
            "210/210 [==============================] - 1s 4ms/step - loss: 2.3017 - accuracy: 0.1079\n",
            "Epoch 60/100\n",
            "210/210 [==============================] - 1s 4ms/step - loss: 2.3017 - accuracy: 0.1112\n",
            "Epoch 61/100\n",
            "210/210 [==============================] - 1s 4ms/step - loss: 2.3017 - accuracy: 0.1074\n",
            "Epoch 62/100\n",
            "210/210 [==============================] - 1s 4ms/step - loss: 2.3017 - accuracy: 0.1062\n",
            "Epoch 63/100\n",
            "210/210 [==============================] - 1s 4ms/step - loss: 2.3016 - accuracy: 0.1095\n",
            "Epoch 64/100\n",
            "210/210 [==============================] - 1s 4ms/step - loss: 2.3016 - accuracy: 0.1083\n",
            "Epoch 65/100\n",
            "210/210 [==============================] - 1s 4ms/step - loss: 2.3016 - accuracy: 0.1092\n",
            "Epoch 66/100\n",
            "210/210 [==============================] - 1s 4ms/step - loss: 2.3015 - accuracy: 0.1098\n",
            "Epoch 67/100\n",
            "210/210 [==============================] - 1s 4ms/step - loss: 2.3015 - accuracy: 0.1103\n",
            "Epoch 68/100\n",
            "210/210 [==============================] - 1s 4ms/step - loss: 2.3015 - accuracy: 0.1108\n",
            "Epoch 69/100\n",
            "210/210 [==============================] - 1s 4ms/step - loss: 2.3014 - accuracy: 0.1120\n",
            "Epoch 70/100\n",
            "210/210 [==============================] - 1s 4ms/step - loss: 2.3015 - accuracy: 0.1069\n",
            "Epoch 71/100\n",
            "210/210 [==============================] - 1s 4ms/step - loss: 2.3014 - accuracy: 0.1155\n",
            "Epoch 72/100\n",
            "210/210 [==============================] - 1s 4ms/step - loss: 2.3014 - accuracy: 0.1110\n",
            "Epoch 73/100\n",
            "210/210 [==============================] - 1s 4ms/step - loss: 2.3013 - accuracy: 0.1074\n",
            "Epoch 74/100\n",
            "210/210 [==============================] - 1s 4ms/step - loss: 2.3012 - accuracy: 0.1103\n",
            "Epoch 75/100\n",
            "210/210 [==============================] - 1s 4ms/step - loss: 2.3013 - accuracy: 0.1125\n",
            "Epoch 76/100\n",
            "210/210 [==============================] - 1s 4ms/step - loss: 2.3013 - accuracy: 0.1138\n",
            "Epoch 77/100\n",
            "210/210 [==============================] - 1s 4ms/step - loss: 2.3012 - accuracy: 0.1113\n",
            "Epoch 78/100\n",
            "210/210 [==============================] - 1s 4ms/step - loss: 2.3012 - accuracy: 0.1118\n",
            "Epoch 79/100\n",
            "210/210 [==============================] - 1s 4ms/step - loss: 2.3011 - accuracy: 0.1116\n",
            "Epoch 80/100\n",
            "210/210 [==============================] - 1s 4ms/step - loss: 2.3010 - accuracy: 0.1099\n",
            "Epoch 81/100\n",
            "210/210 [==============================] - 1s 4ms/step - loss: 2.3011 - accuracy: 0.1094\n",
            "Epoch 82/100\n",
            "210/210 [==============================] - 1s 4ms/step - loss: 2.3011 - accuracy: 0.1116\n",
            "Epoch 83/100\n",
            "210/210 [==============================] - 1s 4ms/step - loss: 2.3010 - accuracy: 0.1123\n",
            "Epoch 84/100\n",
            "210/210 [==============================] - 1s 4ms/step - loss: 2.3009 - accuracy: 0.1145\n",
            "Epoch 85/100\n",
            "210/210 [==============================] - 1s 4ms/step - loss: 2.3009 - accuracy: 0.1114\n",
            "Epoch 86/100\n",
            "210/210 [==============================] - 1s 4ms/step - loss: 2.3009 - accuracy: 0.1210\n",
            "Epoch 87/100\n",
            "210/210 [==============================] - 1s 4ms/step - loss: 2.3009 - accuracy: 0.1115\n",
            "Epoch 88/100\n",
            "210/210 [==============================] - 1s 4ms/step - loss: 2.3008 - accuracy: 0.1213\n",
            "Epoch 89/100\n",
            "210/210 [==============================] - 1s 4ms/step - loss: 2.3008 - accuracy: 0.1181\n",
            "Epoch 90/100\n",
            "210/210 [==============================] - 1s 4ms/step - loss: 2.3007 - accuracy: 0.1156\n",
            "Epoch 91/100\n",
            "210/210 [==============================] - 1s 4ms/step - loss: 2.3007 - accuracy: 0.1142\n",
            "Epoch 92/100\n",
            "210/210 [==============================] - 1s 4ms/step - loss: 2.3006 - accuracy: 0.1185\n",
            "Epoch 93/100\n",
            "210/210 [==============================] - 1s 4ms/step - loss: 2.3006 - accuracy: 0.1183\n",
            "Epoch 94/100\n",
            "210/210 [==============================] - 1s 4ms/step - loss: 2.3006 - accuracy: 0.1171\n",
            "Epoch 95/100\n",
            "210/210 [==============================] - 1s 4ms/step - loss: 2.3005 - accuracy: 0.1211\n",
            "Epoch 96/100\n",
            "210/210 [==============================] - 1s 4ms/step - loss: 2.3004 - accuracy: 0.1168\n",
            "Epoch 97/100\n",
            "210/210 [==============================] - 1s 4ms/step - loss: 2.3003 - accuracy: 0.1214\n",
            "Epoch 98/100\n",
            "210/210 [==============================] - 1s 4ms/step - loss: 2.3004 - accuracy: 0.1185\n",
            "Epoch 99/100\n",
            "210/210 [==============================] - 1s 4ms/step - loss: 2.3003 - accuracy: 0.1204\n",
            "Epoch 100/100\n",
            "210/210 [==============================] - 1s 4ms/step - loss: 2.3002 - accuracy: 0.1242\n"
          ],
          "name": "stdout"
        }
      ]
    },
    {
      "cell_type": "code",
      "metadata": {
        "id": "S0AyhrcSG3lP",
        "colab_type": "code",
        "outputId": "28ac00dc-e65b-4d35-f5fe-ce8111da8333",
        "colab": {
          "base_uri": "https://localhost:8080/",
          "height": 35
        }
      },
      "source": [
        "results = model.evaluate(X_test, y_test)"
      ],
      "execution_count": 0,
      "outputs": [
        {
          "output_type": "stream",
          "text": [
            "563/563 [==============================] - 2s 3ms/step - loss: 2.3003 - accuracy: 0.1184\n"
          ],
          "name": "stdout"
        }
      ]
    },
    {
      "cell_type": "code",
      "metadata": {
        "id": "6VXzBAuyHBPY",
        "colab_type": "code",
        "outputId": "cdcebc87-184d-4cc6-b424-ebc2d0f6de4f",
        "colab": {
          "base_uri": "https://localhost:8080/",
          "height": 35
        }
      },
      "source": [
        "print('Test accuracy: ', results[1])"
      ],
      "execution_count": 0,
      "outputs": [
        {
          "output_type": "stream",
          "text": [
            "Test accuracy:  0.11844444274902344\n"
          ],
          "name": "stdout"
        }
      ]
    },
    {
      "cell_type": "code",
      "metadata": {
        "id": "w3MCqWCP9Vz1",
        "colab_type": "code",
        "outputId": "21ef3e41-74c1-4e19-be18-c65655b3262a",
        "colab": {
          "base_uri": "https://localhost:8080/",
          "height": 392
        }
      },
      "source": [
        "model_history = model.fit(X_train, y_train, batch_size=200, epochs=10, validation_split = 0.1)"
      ],
      "execution_count": 0,
      "outputs": [
        {
          "output_type": "stream",
          "text": [
            "Epoch 1/10\n",
            "189/189 [==============================] - 1s 5ms/step - loss: 2.3002 - accuracy: 0.1173 - val_loss: 2.3002 - val_accuracy: 0.1157\n",
            "Epoch 2/10\n",
            "189/189 [==============================] - 1s 4ms/step - loss: 2.3001 - accuracy: 0.1187 - val_loss: 2.3002 - val_accuracy: 0.1195\n",
            "Epoch 3/10\n",
            "189/189 [==============================] - 1s 4ms/step - loss: 2.3001 - accuracy: 0.1133 - val_loss: 2.3000 - val_accuracy: 0.0979\n",
            "Epoch 4/10\n",
            "189/189 [==============================] - 1s 4ms/step - loss: 2.3000 - accuracy: 0.1079 - val_loss: 2.2999 - val_accuracy: 0.1174\n",
            "Epoch 5/10\n",
            "189/189 [==============================] - 1s 4ms/step - loss: 2.3000 - accuracy: 0.1222 - val_loss: 2.3002 - val_accuracy: 0.1121\n",
            "Epoch 6/10\n",
            "189/189 [==============================] - 1s 4ms/step - loss: 2.2999 - accuracy: 0.1176 - val_loss: 2.3001 - val_accuracy: 0.1181\n",
            "Epoch 7/10\n",
            "189/189 [==============================] - 1s 4ms/step - loss: 2.2998 - accuracy: 0.1228 - val_loss: 2.2999 - val_accuracy: 0.1026\n",
            "Epoch 8/10\n",
            "189/189 [==============================] - 1s 4ms/step - loss: 2.2998 - accuracy: 0.1230 - val_loss: 2.3000 - val_accuracy: 0.1207\n",
            "Epoch 9/10\n",
            "189/189 [==============================] - 1s 4ms/step - loss: 2.2997 - accuracy: 0.1156 - val_loss: 2.2999 - val_accuracy: 0.1195\n",
            "Epoch 10/10\n",
            "189/189 [==============================] - 1s 4ms/step - loss: 2.2997 - accuracy: 0.1186 - val_loss: 2.2996 - val_accuracy: 0.1043\n"
          ],
          "name": "stdout"
        }
      ]
    },
    {
      "cell_type": "code",
      "metadata": {
        "id": "l_wMvV4z9clg",
        "colab_type": "code",
        "outputId": "294ee600-d8fe-4842-ace9-71439aa93e44",
        "colab": {
          "base_uri": "https://localhost:8080/",
          "height": 564
        }
      },
      "source": [
        "#Here we plot the performance of the model on the training and validation data.\n",
        "plt.plot(model_history.history[\"accuracy\"])\n",
        "plt.plot(model_history.history['val_accuracy'])\n",
        "plt.title('Accuracy of NN Model')\n",
        "plt.ylabel('accuracy')\n",
        "plt.xlabel('epoch')\n",
        "plt.legend(['Train data', 'Validation Data'], loc='bottom right')\n",
        "plt.show()"
      ],
      "execution_count": 0,
      "outputs": [
        {
          "output_type": "stream",
          "text": [
            "/usr/local/lib/python3.6/dist-packages/ipykernel_launcher.py:7: MatplotlibDeprecationWarning: Unrecognized location 'bottom right'. Falling back on 'best'; valid locations are\n",
            "\tbest\n",
            "\tupper right\n",
            "\tupper left\n",
            "\tlower left\n",
            "\tlower right\n",
            "\tright\n",
            "\tcenter left\n",
            "\tcenter right\n",
            "\tlower center\n",
            "\tupper center\n",
            "\tcenter\n",
            "This will raise an exception in 3.3.\n",
            "  import sys\n"
          ],
          "name": "stderr"
        },
        {
          "output_type": "display_data",
          "data": {
            "image/png": "[encoded data removed]",
            "text/plain": [
              "<Figure size 432x288 with 1 Axes>"
            ]
          },
          "metadata": {
            "tags": [],
            "needs_background": "light"
          }
        }
      ]
    },
    {
      "cell_type": "markdown",
      "metadata": {
        "id": "sNgeV_z9HSvN",
        "colab_type": "text"
      },
      "source": [
        "## Weight Initialization"
      ]
    },
    {
      "cell_type": "code",
      "metadata": {
        "id": "EC3oHnkQHc8v",
        "colab_type": "code",
        "colab": {}
      },
      "source": [
        "# from now on, create a function to generate (return) models\n",
        "def mlp_model():\n",
        "    model = Sequential()\n",
        "    \n",
        "    model.add(Dense(50, input_shape = (1024, ), kernel_initializer='he_normal'))\n",
        "    model.add(Activation('sigmoid'))    \n",
        "    model.add(Dense(50, kernel_initializer='he_normal'))\n",
        "    model.add(Activation('sigmoid'))    \n",
        "    model.add(Dense(50, kernel_initializer='he_normal'))\n",
        "    model.add(Activation('sigmoid'))    \n",
        "    model.add(Dense(50, kernel_initializer='he_normal'))\n",
        "    model.add(Activation('sigmoid'))    \n",
        "    model.add(Dense(10, kernel_initializer='he_normal'))\n",
        "    model.add(Activation('softmax'))\n",
        "    \n",
        "    sigd = optimizers.SGD(lr = 0.001)\n",
        "    model.compile(optimizer = sigd, loss = 'categorical_crossentropy', metrics = ['accuracy'])\n",
        "    \n",
        "    return model"
      ],
      "execution_count": 0,
      "outputs": []
    },
    {
      "cell_type": "code",
      "metadata": {
        "id": "SvBTIV-gHl74",
        "colab_type": "code",
        "outputId": "0918c5f5-6384-4e28-a653-045233112e9a",
        "colab": {
          "base_uri": "https://localhost:8080/",
          "height": 1000
        }
      },
      "source": [
        "model = mlp_model()\n",
        "history = model.fit(X_train, y_train, batch_size=200, epochs = 100, verbose = 1)"
      ],
      "execution_count": 0,
      "outputs": [
        {
          "output_type": "stream",
          "text": [
            "Epoch 1/100\n",
            "210/210 [==============================] - 1s 4ms/step - loss: 2.5090 - accuracy: 0.0992\n",
            "Epoch 2/100\n",
            "210/210 [==============================] - 1s 4ms/step - loss: 2.4286 - accuracy: 0.0992\n",
            "Epoch 3/100\n",
            "210/210 [==============================] - 1s 4ms/step - loss: 2.3834 - accuracy: 0.0992\n",
            "Epoch 4/100\n",
            "210/210 [==============================] - 1s 4ms/step - loss: 2.3553 - accuracy: 0.0992\n",
            "Epoch 5/100\n",
            "210/210 [==============================] - 1s 4ms/step - loss: 2.3366 - accuracy: 0.0992\n",
            "Epoch 6/100\n",
            "210/210 [==============================] - 1s 4ms/step - loss: 2.3239 - accuracy: 0.0993\n",
            "Epoch 7/100\n",
            "210/210 [==============================] - 1s 4ms/step - loss: 2.3156 - accuracy: 0.0999\n",
            "Epoch 8/100\n",
            "210/210 [==============================] - 1s 4ms/step - loss: 2.3102 - accuracy: 0.1005\n",
            "Epoch 9/100\n",
            "210/210 [==============================] - 1s 4ms/step - loss: 2.3068 - accuracy: 0.1005\n",
            "Epoch 10/100\n",
            "210/210 [==============================] - 1s 4ms/step - loss: 2.3047 - accuracy: 0.1006\n",
            "Epoch 11/100\n",
            "210/210 [==============================] - 1s 4ms/step - loss: 2.3035 - accuracy: 0.1009\n",
            "Epoch 12/100\n",
            "210/210 [==============================] - 1s 4ms/step - loss: 2.3029 - accuracy: 0.1021\n",
            "Epoch 13/100\n",
            "210/210 [==============================] - 1s 4ms/step - loss: 2.3025 - accuracy: 0.1025\n",
            "Epoch 14/100\n",
            "210/210 [==============================] - 1s 4ms/step - loss: 2.3023 - accuracy: 0.1017\n",
            "Epoch 15/100\n",
            "210/210 [==============================] - 1s 4ms/step - loss: 2.3022 - accuracy: 0.1025\n",
            "Epoch 16/100\n",
            "210/210 [==============================] - 1s 4ms/step - loss: 2.3021 - accuracy: 0.1023\n",
            "Epoch 17/100\n",
            "210/210 [==============================] - 1s 4ms/step - loss: 2.3021 - accuracy: 0.1023\n",
            "Epoch 18/100\n",
            "210/210 [==============================] - 1s 4ms/step - loss: 2.3020 - accuracy: 0.1029\n",
            "Epoch 19/100\n",
            "210/210 [==============================] - 1s 4ms/step - loss: 2.3020 - accuracy: 0.1029\n",
            "Epoch 20/100\n",
            "210/210 [==============================] - 1s 4ms/step - loss: 2.3020 - accuracy: 0.1028\n",
            "Epoch 21/100\n",
            "210/210 [==============================] - 1s 4ms/step - loss: 2.3020 - accuracy: 0.1031\n",
            "Epoch 22/100\n",
            "210/210 [==============================] - 1s 4ms/step - loss: 2.3020 - accuracy: 0.1034\n",
            "Epoch 23/100\n",
            "210/210 [==============================] - 1s 4ms/step - loss: 2.3020 - accuracy: 0.1036\n",
            "Epoch 24/100\n",
            "210/210 [==============================] - 1s 4ms/step - loss: 2.3019 - accuracy: 0.1036\n",
            "Epoch 25/100\n",
            "210/210 [==============================] - 1s 4ms/step - loss: 2.3019 - accuracy: 0.1052\n",
            "Epoch 26/100\n",
            "210/210 [==============================] - 1s 4ms/step - loss: 2.3019 - accuracy: 0.1037\n",
            "Epoch 27/100\n",
            "210/210 [==============================] - 1s 4ms/step - loss: 2.3019 - accuracy: 0.1046\n",
            "Epoch 28/100\n",
            "210/210 [==============================] - 1s 4ms/step - loss: 2.3019 - accuracy: 0.1039\n",
            "Epoch 29/100\n",
            "210/210 [==============================] - 1s 4ms/step - loss: 2.3019 - accuracy: 0.1059\n",
            "Epoch 30/100\n",
            "210/210 [==============================] - 1s 4ms/step - loss: 2.3018 - accuracy: 0.1045\n",
            "Epoch 31/100\n",
            "210/210 [==============================] - 1s 4ms/step - loss: 2.3018 - accuracy: 0.1055\n",
            "Epoch 32/100\n",
            "210/210 [==============================] - 1s 4ms/step - loss: 2.3018 - accuracy: 0.1063\n",
            "Epoch 33/100\n",
            "210/210 [==============================] - 1s 4ms/step - loss: 2.3018 - accuracy: 0.1066\n",
            "Epoch 34/100\n",
            "210/210 [==============================] - 1s 4ms/step - loss: 2.3018 - accuracy: 0.1073\n",
            "Epoch 35/100\n",
            "210/210 [==============================] - 1s 4ms/step - loss: 2.3017 - accuracy: 0.1074\n",
            "Epoch 36/100\n",
            "210/210 [==============================] - 1s 4ms/step - loss: 2.3017 - accuracy: 0.1055\n",
            "Epoch 37/100\n",
            "210/210 [==============================] - 1s 4ms/step - loss: 2.3017 - accuracy: 0.1054\n",
            "Epoch 38/100\n",
            "210/210 [==============================] - 1s 4ms/step - loss: 2.3017 - accuracy: 0.1066\n",
            "Epoch 39/100\n",
            "210/210 [==============================] - 1s 4ms/step - loss: 2.3017 - accuracy: 0.1071\n",
            "Epoch 40/100\n",
            "210/210 [==============================] - 1s 4ms/step - loss: 2.3017 - accuracy: 0.1065\n",
            "Epoch 41/100\n",
            "210/210 [==============================] - 1s 4ms/step - loss: 2.3017 - accuracy: 0.1085\n",
            "Epoch 42/100\n",
            "210/210 [==============================] - 1s 4ms/step - loss: 2.3017 - accuracy: 0.1085\n",
            "Epoch 43/100\n",
            "210/210 [==============================] - 1s 4ms/step - loss: 2.3017 - accuracy: 0.1080\n",
            "Epoch 44/100\n",
            "210/210 [==============================] - 1s 4ms/step - loss: 2.3017 - accuracy: 0.1091\n",
            "Epoch 45/100\n",
            "210/210 [==============================] - 1s 4ms/step - loss: 2.3016 - accuracy: 0.1070\n",
            "Epoch 46/100\n",
            "210/210 [==============================] - 1s 4ms/step - loss: 2.3016 - accuracy: 0.1075\n",
            "Epoch 47/100\n",
            "210/210 [==============================] - 1s 4ms/step - loss: 2.3016 - accuracy: 0.1059\n",
            "Epoch 48/100\n",
            "210/210 [==============================] - 1s 4ms/step - loss: 2.3016 - accuracy: 0.1069\n",
            "Epoch 49/100\n",
            "210/210 [==============================] - 1s 4ms/step - loss: 2.3016 - accuracy: 0.1090\n",
            "Epoch 50/100\n",
            "210/210 [==============================] - 1s 4ms/step - loss: 2.3016 - accuracy: 0.1079\n",
            "Epoch 51/100\n",
            "210/210 [==============================] - 1s 4ms/step - loss: 2.3016 - accuracy: 0.1092\n",
            "Epoch 52/100\n",
            "210/210 [==============================] - 1s 4ms/step - loss: 2.3016 - accuracy: 0.1100\n",
            "Epoch 53/100\n",
            "210/210 [==============================] - 1s 4ms/step - loss: 2.3016 - accuracy: 0.1095\n",
            "Epoch 54/100\n",
            "210/210 [==============================] - 1s 4ms/step - loss: 2.3015 - accuracy: 0.1076\n",
            "Epoch 55/100\n",
            "210/210 [==============================] - 1s 4ms/step - loss: 2.3015 - accuracy: 0.1089\n",
            "Epoch 56/100\n",
            "210/210 [==============================] - 1s 4ms/step - loss: 2.3015 - accuracy: 0.1085\n",
            "Epoch 57/100\n",
            "210/210 [==============================] - 1s 4ms/step - loss: 2.3015 - accuracy: 0.1091\n",
            "Epoch 58/100\n",
            "210/210 [==============================] - 1s 4ms/step - loss: 2.3015 - accuracy: 0.1094\n",
            "Epoch 59/100\n",
            "210/210 [==============================] - 1s 4ms/step - loss: 2.3015 - accuracy: 0.1084\n",
            "Epoch 60/100\n",
            "210/210 [==============================] - 1s 4ms/step - loss: 2.3015 - accuracy: 0.1118\n",
            "Epoch 61/100\n",
            "210/210 [==============================] - 1s 4ms/step - loss: 2.3015 - accuracy: 0.1101\n",
            "Epoch 62/100\n",
            "210/210 [==============================] - 1s 4ms/step - loss: 2.3015 - accuracy: 0.1078\n",
            "Epoch 63/100\n",
            "210/210 [==============================] - 1s 4ms/step - loss: 2.3015 - accuracy: 0.1107\n",
            "Epoch 64/100\n",
            "210/210 [==============================] - 1s 4ms/step - loss: 2.3015 - accuracy: 0.1084\n",
            "Epoch 65/100\n",
            "210/210 [==============================] - 1s 4ms/step - loss: 2.3015 - accuracy: 0.1082\n",
            "Epoch 66/100\n",
            "210/210 [==============================] - 1s 4ms/step - loss: 2.3015 - accuracy: 0.1090\n",
            "Epoch 67/100\n",
            "210/210 [==============================] - 1s 4ms/step - loss: 2.3014 - accuracy: 0.1071\n",
            "Epoch 68/100\n",
            "210/210 [==============================] - 1s 4ms/step - loss: 2.3014 - accuracy: 0.1097\n",
            "Epoch 69/100\n",
            "210/210 [==============================] - 1s 4ms/step - loss: 2.3014 - accuracy: 0.1086\n",
            "Epoch 70/100\n",
            "210/210 [==============================] - 1s 4ms/step - loss: 2.3014 - accuracy: 0.1099\n",
            "Epoch 71/100\n",
            "210/210 [==============================] - 1s 4ms/step - loss: 2.3014 - accuracy: 0.1093\n",
            "Epoch 72/100\n",
            "210/210 [==============================] - 1s 4ms/step - loss: 2.3014 - accuracy: 0.1095\n",
            "Epoch 73/100\n",
            "210/210 [==============================] - 1s 4ms/step - loss: 2.3014 - accuracy: 0.1095\n",
            "Epoch 74/100\n",
            "210/210 [==============================] - 1s 4ms/step - loss: 2.3014 - accuracy: 0.1112\n",
            "Epoch 75/100\n",
            "210/210 [==============================] - 1s 4ms/step - loss: 2.3014 - accuracy: 0.1102\n",
            "Epoch 76/100\n",
            "210/210 [==============================] - 1s 4ms/step - loss: 2.3014 - accuracy: 0.1110\n",
            "Epoch 77/100\n",
            "210/210 [==============================] - 1s 4ms/step - loss: 2.3014 - accuracy: 0.1090\n",
            "Epoch 78/100\n",
            "210/210 [==============================] - 1s 4ms/step - loss: 2.3014 - accuracy: 0.1075\n",
            "Epoch 79/100\n",
            "210/210 [==============================] - 1s 4ms/step - loss: 2.3013 - accuracy: 0.1091\n",
            "Epoch 80/100\n",
            "210/210 [==============================] - 1s 4ms/step - loss: 2.3013 - accuracy: 0.1099\n",
            "Epoch 81/100\n",
            "210/210 [==============================] - 1s 4ms/step - loss: 2.3013 - accuracy: 0.1115\n",
            "Epoch 82/100\n",
            "210/210 [==============================] - 1s 4ms/step - loss: 2.3013 - accuracy: 0.1092\n",
            "Epoch 83/100\n",
            "210/210 [==============================] - 1s 4ms/step - loss: 2.3013 - accuracy: 0.1103\n",
            "Epoch 84/100\n",
            "210/210 [==============================] - 1s 4ms/step - loss: 2.3013 - accuracy: 0.1113\n",
            "Epoch 85/100\n",
            "210/210 [==============================] - 1s 4ms/step - loss: 2.3013 - accuracy: 0.1132\n",
            "Epoch 86/100\n",
            "210/210 [==============================] - 1s 4ms/step - loss: 2.3013 - accuracy: 0.1133\n",
            "Epoch 87/100\n",
            "210/210 [==============================] - 1s 4ms/step - loss: 2.3013 - accuracy: 0.1096\n",
            "Epoch 88/100\n",
            "210/210 [==============================] - 1s 4ms/step - loss: 2.3013 - accuracy: 0.1113\n",
            "Epoch 89/100\n",
            "210/210 [==============================] - 1s 4ms/step - loss: 2.3013 - accuracy: 0.1135\n",
            "Epoch 90/100\n",
            "210/210 [==============================] - 1s 4ms/step - loss: 2.3012 - accuracy: 0.1124\n",
            "Epoch 91/100\n",
            "210/210 [==============================] - 1s 4ms/step - loss: 2.3012 - accuracy: 0.1124\n",
            "Epoch 92/100\n",
            "210/210 [==============================] - 1s 4ms/step - loss: 2.3012 - accuracy: 0.1116\n",
            "Epoch 93/100\n",
            "210/210 [==============================] - 1s 4ms/step - loss: 2.3012 - accuracy: 0.1112\n",
            "Epoch 94/100\n",
            "210/210 [==============================] - 1s 4ms/step - loss: 2.3012 - accuracy: 0.1102\n",
            "Epoch 95/100\n",
            "210/210 [==============================] - 1s 4ms/step - loss: 2.3012 - accuracy: 0.1134\n",
            "Epoch 96/100\n",
            "210/210 [==============================] - 1s 4ms/step - loss: 2.3012 - accuracy: 0.1121\n",
            "Epoch 97/100\n",
            "210/210 [==============================] - 1s 4ms/step - loss: 2.3012 - accuracy: 0.1101\n",
            "Epoch 98/100\n",
            "210/210 [==============================] - 1s 4ms/step - loss: 2.3012 - accuracy: 0.1124\n",
            "Epoch 99/100\n",
            "210/210 [==============================] - 1s 4ms/step - loss: 2.3012 - accuracy: 0.1147\n",
            "Epoch 100/100\n",
            "210/210 [==============================] - 1s 4ms/step - loss: 2.3012 - accuracy: 0.1122\n"
          ],
          "name": "stdout"
        }
      ]
    },
    {
      "cell_type": "code",
      "metadata": {
        "id": "8RboDVTfJB29",
        "colab_type": "code",
        "outputId": "868b002f-94c7-4827-be39-624012726551",
        "colab": {
          "base_uri": "https://localhost:8080/",
          "height": 35
        }
      },
      "source": [
        "results = model.evaluate(X_test, y_test)"
      ],
      "execution_count": 0,
      "outputs": [
        {
          "output_type": "stream",
          "text": [
            "563/563 [==============================] - 2s 3ms/step - loss: 2.3014 - accuracy: 0.1074\n"
          ],
          "name": "stdout"
        }
      ]
    },
    {
      "cell_type": "code",
      "metadata": {
        "id": "KaZHl0K9JEyD",
        "colab_type": "code",
        "outputId": "f2d35f38-4fb0-4588-bdc1-33d56ac8dcb9",
        "colab": {
          "base_uri": "https://localhost:8080/",
          "height": 35
        }
      },
      "source": [
        "print('Test accuracy: ', results[1])"
      ],
      "execution_count": 0,
      "outputs": [
        {
          "output_type": "stream",
          "text": [
            "Test accuracy:  0.10744444280862808\n"
          ],
          "name": "stdout"
        }
      ]
    },
    {
      "cell_type": "code",
      "metadata": {
        "id": "in56z58c-d0S",
        "colab_type": "code",
        "outputId": "d7734e3b-a938-4e73-8d8a-91143aea401d",
        "colab": {
          "base_uri": "https://localhost:8080/",
          "height": 392
        }
      },
      "source": [
        "model_history = model.fit(X_train, y_train, batch_size=200, epochs=10, validation_split = 0.1)"
      ],
      "execution_count": 0,
      "outputs": [
        {
          "output_type": "stream",
          "text": [
            "Epoch 1/10\n",
            "189/189 [==============================] - 1s 5ms/step - loss: 2.3011 - accuracy: 0.1140 - val_loss: 2.3013 - val_accuracy: 0.1090\n",
            "Epoch 2/10\n",
            "189/189 [==============================] - 1s 4ms/step - loss: 2.3011 - accuracy: 0.1141 - val_loss: 2.3014 - val_accuracy: 0.1071\n",
            "Epoch 3/10\n",
            "189/189 [==============================] - 1s 4ms/step - loss: 2.3011 - accuracy: 0.1137 - val_loss: 2.3014 - val_accuracy: 0.1081\n",
            "Epoch 4/10\n",
            "189/189 [==============================] - 1s 4ms/step - loss: 2.3011 - accuracy: 0.1111 - val_loss: 2.3014 - val_accuracy: 0.1069\n",
            "Epoch 5/10\n",
            "189/189 [==============================] - 1s 4ms/step - loss: 2.3011 - accuracy: 0.1116 - val_loss: 2.3014 - val_accuracy: 0.1069\n",
            "Epoch 6/10\n",
            "189/189 [==============================] - 1s 4ms/step - loss: 2.3011 - accuracy: 0.1111 - val_loss: 2.3014 - val_accuracy: 0.1088\n",
            "Epoch 7/10\n",
            "189/189 [==============================] - 1s 4ms/step - loss: 2.3011 - accuracy: 0.1096 - val_loss: 2.3015 - val_accuracy: 0.1057\n",
            "Epoch 8/10\n",
            "189/189 [==============================] - 1s 4ms/step - loss: 2.3011 - accuracy: 0.1103 - val_loss: 2.3015 - val_accuracy: 0.1060\n",
            "Epoch 9/10\n",
            "189/189 [==============================] - 1s 4ms/step - loss: 2.3011 - accuracy: 0.1134 - val_loss: 2.3015 - val_accuracy: 0.1055\n",
            "Epoch 10/10\n",
            "189/189 [==============================] - 1s 4ms/step - loss: 2.3010 - accuracy: 0.1098 - val_loss: 2.3015 - val_accuracy: 0.1055\n"
          ],
          "name": "stdout"
        }
      ]
    },
    {
      "cell_type": "code",
      "metadata": {
        "id": "Ns4D8057-mO4",
        "colab_type": "code",
        "outputId": "0b486104-a505-4531-aa59-5fd9ec56c27e",
        "colab": {
          "base_uri": "https://localhost:8080/",
          "height": 564
        }
      },
      "source": [
        "#Here we plot the performance of the model on the training and validation data.\n",
        "plt.plot(model_history.history[\"accuracy\"])\n",
        "plt.plot(model_history.history['val_accuracy'])\n",
        "plt.title('Accuracy of Weight Initialization Model')\n",
        "plt.ylabel('accuracy')\n",
        "plt.xlabel('epoch')\n",
        "plt.legend(['Train data', 'Validation Data'], loc='bottom right')\n",
        "plt.show()"
      ],
      "execution_count": 0,
      "outputs": [
        {
          "output_type": "stream",
          "text": [
            "/usr/local/lib/python3.6/dist-packages/ipykernel_launcher.py:7: MatplotlibDeprecationWarning: Unrecognized location 'bottom right'. Falling back on 'best'; valid locations are\n",
            "\tbest\n",
            "\tupper right\n",
            "\tupper left\n",
            "\tlower left\n",
            "\tlower right\n",
            "\tright\n",
            "\tcenter left\n",
            "\tcenter right\n",
            "\tlower center\n",
            "\tupper center\n",
            "\tcenter\n",
            "This will raise an exception in 3.3.\n",
            "  import sys\n"
          ],
          "name": "stderr"
        },
        {
          "output_type": "display_data",
          "data": {
            "image/png": "[encoded data removed]",
            "text/plain": [
              "<Figure size 432x288 with 1 Axes>"
            ]
          },
          "metadata": {
            "tags": [],
            "needs_background": "light"
          }
        }
      ]
    },
    {
      "cell_type": "markdown",
      "metadata": {
        "id": "BXUVpRGXJQ1-",
        "colab_type": "text"
      },
      "source": [
        "## Non Linearity (Activation Function)"
      ]
    },
    {
      "cell_type": "code",
      "metadata": {
        "id": "b6Ia_zbeJWz3",
        "colab_type": "code",
        "colab": {}
      },
      "source": [
        "def mlp_model():\n",
        "    model = Sequential()\n",
        "    \n",
        "    model.add(Dense(50, input_shape = (1024, )))\n",
        "    model.add(Activation('relu'))    \n",
        "    model.add(Dense(50))\n",
        "    model.add(Activation('relu'))    \n",
        "    model.add(Dense(50))\n",
        "    model.add(Activation('relu'))    \n",
        "    model.add(Dense(50))\n",
        "    model.add(Activation('relu'))    \n",
        "    model.add(Dense(10))\n",
        "    model.add(Activation('softmax'))\n",
        "    \n",
        "    sigd = optimizers.SGD(lr = 0.001)\n",
        "    model.compile(optimizer = sigd, loss = 'categorical_crossentropy', metrics = ['accuracy'])\n",
        "    \n",
        "    return model"
      ],
      "execution_count": 0,
      "outputs": []
    },
    {
      "cell_type": "code",
      "metadata": {
        "id": "DqHo91GjJo7v",
        "colab_type": "code",
        "outputId": "e66bf842-e318-4617-b6e1-29efca8e466e",
        "colab": {
          "base_uri": "https://localhost:8080/",
          "height": 372
        }
      },
      "source": [
        "model = mlp_model()\n",
        "history = model.fit(X_train, y_train, epochs = 10, verbose = 1)"
      ],
      "execution_count": 0,
      "outputs": [
        {
          "output_type": "stream",
          "text": [
            "Epoch 1/10\n",
            "1313/1313 [==============================] - 5s 4ms/step - loss: 2.9811 - accuracy: 0.0999\n",
            "Epoch 2/10\n",
            "1313/1313 [==============================] - 5s 4ms/step - loss: 2.2998 - accuracy: 0.1057\n",
            "Epoch 3/10\n",
            "1313/1313 [==============================] - 5s 4ms/step - loss: 2.2732 - accuracy: 0.1237\n",
            "Epoch 4/10\n",
            "1313/1313 [==============================] - 5s 4ms/step - loss: 2.2550 - accuracy: 0.1300\n",
            "Epoch 5/10\n",
            "1313/1313 [==============================] - 5s 4ms/step - loss: 2.2466 - accuracy: 0.1289\n",
            "Epoch 6/10\n",
            "1313/1313 [==============================] - 5s 4ms/step - loss: 2.2418 - accuracy: 0.1329\n",
            "Epoch 7/10\n",
            "1313/1313 [==============================] - 5s 4ms/step - loss: 2.2379 - accuracy: 0.1334\n",
            "Epoch 8/10\n",
            "1313/1313 [==============================] - 5s 4ms/step - loss: 2.2358 - accuracy: 0.1338\n",
            "Epoch 9/10\n",
            "1313/1313 [==============================] - 5s 4ms/step - loss: 2.2339 - accuracy: 0.1344\n",
            "Epoch 10/10\n",
            "1313/1313 [==============================] - 5s 4ms/step - loss: 2.2327 - accuracy: 0.1344\n"
          ],
          "name": "stdout"
        }
      ]
    },
    {
      "cell_type": "code",
      "metadata": {
        "id": "mS1IT0YVJ6q0",
        "colab_type": "code",
        "outputId": "8723d323-bc0a-4738-c814-6ebb79f5f30d",
        "colab": {
          "base_uri": "https://localhost:8080/",
          "height": 35
        }
      },
      "source": [
        "results = model.evaluate(X_test, y_test)"
      ],
      "execution_count": 0,
      "outputs": [
        {
          "output_type": "stream",
          "text": [
            "563/563 [==============================] - 2s 3ms/step - loss: 2.2324 - accuracy: 0.1297\n"
          ],
          "name": "stdout"
        }
      ]
    },
    {
      "cell_type": "code",
      "metadata": {
        "id": "JVYj5vSCJ-8q",
        "colab_type": "code",
        "outputId": "af9aae2e-c568-409d-e532-f505c6fefe98",
        "colab": {
          "base_uri": "https://localhost:8080/",
          "height": 35
        }
      },
      "source": [
        "print('Test accuracy: ', results[1])"
      ],
      "execution_count": 0,
      "outputs": [
        {
          "output_type": "stream",
          "text": [
            "Test accuracy:  0.12966667115688324\n"
          ],
          "name": "stdout"
        }
      ]
    },
    {
      "cell_type": "code",
      "metadata": {
        "id": "vt9TqQC-_Qqq",
        "colab_type": "code",
        "outputId": "8e3ed852-ff9c-48c9-cda2-4e6ca10de89d",
        "colab": {
          "base_uri": "https://localhost:8080/",
          "height": 392
        }
      },
      "source": [
        "model_history = model.fit(X_train, y_train, batch_size=200, epochs=10, validation_split = 0.1)"
      ],
      "execution_count": 0,
      "outputs": [
        {
          "output_type": "stream",
          "text": [
            "Epoch 1/10\n",
            "189/189 [==============================] - 1s 5ms/step - loss: 2.2293 - accuracy: 0.1351 - val_loss: 2.2293 - val_accuracy: 0.1317\n",
            "Epoch 2/10\n",
            "189/189 [==============================] - 1s 5ms/step - loss: 2.2289 - accuracy: 0.1359 - val_loss: 2.2302 - val_accuracy: 0.1314\n",
            "Epoch 3/10\n",
            "189/189 [==============================] - 1s 5ms/step - loss: 2.2289 - accuracy: 0.1365 - val_loss: 2.2293 - val_accuracy: 0.1324\n",
            "Epoch 4/10\n",
            "189/189 [==============================] - 1s 5ms/step - loss: 2.2288 - accuracy: 0.1359 - val_loss: 2.2296 - val_accuracy: 0.1326\n",
            "Epoch 5/10\n",
            "189/189 [==============================] - 1s 5ms/step - loss: 2.2287 - accuracy: 0.1363 - val_loss: 2.2302 - val_accuracy: 0.1312\n",
            "Epoch 6/10\n",
            "189/189 [==============================] - 1s 5ms/step - loss: 2.2284 - accuracy: 0.1364 - val_loss: 2.2294 - val_accuracy: 0.1319\n",
            "Epoch 7/10\n",
            "189/189 [==============================] - 1s 5ms/step - loss: 2.2283 - accuracy: 0.1359 - val_loss: 2.2300 - val_accuracy: 0.1310\n",
            "Epoch 8/10\n",
            "189/189 [==============================] - 1s 5ms/step - loss: 2.2283 - accuracy: 0.1362 - val_loss: 2.2296 - val_accuracy: 0.1326\n",
            "Epoch 9/10\n",
            "189/189 [==============================] - 1s 4ms/step - loss: 2.2281 - accuracy: 0.1366 - val_loss: 2.2295 - val_accuracy: 0.1324\n",
            "Epoch 10/10\n",
            "189/189 [==============================] - 1s 4ms/step - loss: 2.2281 - accuracy: 0.1360 - val_loss: 2.2303 - val_accuracy: 0.1307\n"
          ],
          "name": "stdout"
        }
      ]
    },
    {
      "cell_type": "code",
      "metadata": {
        "id": "OL-ZOvC0_XZd",
        "colab_type": "code",
        "outputId": "8850c707-cf82-424d-eca3-839c0acbe84e",
        "colab": {
          "base_uri": "https://localhost:8080/",
          "height": 564
        }
      },
      "source": [
        "#Here we plot the performance of the model on the training and validation data.\n",
        "plt.plot(model_history.history[\"accuracy\"])\n",
        "plt.plot(model_history.history['val_accuracy'])\n",
        "plt.title('Accuracy of Non Linearity Model')\n",
        "plt.ylabel('accuracy')\n",
        "plt.xlabel('epoch')\n",
        "plt.legend(['Train data', 'Validation Data'], loc='bottom right')\n",
        "plt.show()"
      ],
      "execution_count": 0,
      "outputs": [
        {
          "output_type": "stream",
          "text": [
            "/usr/local/lib/python3.6/dist-packages/ipykernel_launcher.py:7: MatplotlibDeprecationWarning: Unrecognized location 'bottom right'. Falling back on 'best'; valid locations are\n",
            "\tbest\n",
            "\tupper right\n",
            "\tupper left\n",
            "\tlower left\n",
            "\tlower right\n",
            "\tright\n",
            "\tcenter left\n",
            "\tcenter right\n",
            "\tlower center\n",
            "\tupper center\n",
            "\tcenter\n",
            "This will raise an exception in 3.3.\n",
            "  import sys\n"
          ],
          "name": "stderr"
        },
        {
          "output_type": "display_data",
          "data": {
            "image/png": "[encoded data removed]",
            "text/plain": [
              "<Figure size 432x288 with 1 Axes>"
            ]
          },
          "metadata": {
            "tags": [],
            "needs_background": "light"
          }
        }
      ]
    },
    {
      "cell_type": "markdown",
      "metadata": {
        "id": "6Z9n-TmdKOdm",
        "colab_type": "text"
      },
      "source": [
        "## Batch Normalization"
      ]
    },
    {
      "cell_type": "code",
      "metadata": {
        "id": "_Lp0RyAlKXWI",
        "colab_type": "code",
        "colab": {}
      },
      "source": [
        "from tensorflow.keras.layers import BatchNormalization, Dropout"
      ],
      "execution_count": 0,
      "outputs": []
    },
    {
      "cell_type": "code",
      "metadata": {
        "id": "jF5m0_qzKbMZ",
        "colab_type": "code",
        "colab": {}
      },
      "source": [
        "def mlp_model():\n",
        "    model = Sequential()\n",
        "    \n",
        "    model.add(Dense(50, input_shape = (1024, )))\n",
        "    model.add(BatchNormalization())                    \n",
        "    model.add(Activation('relu'))    \n",
        "    model.add(Dense(50))\n",
        "    model.add(BatchNormalization())                    \n",
        "    model.add(Activation('relu'))    \n",
        "    model.add(Dense(50))\n",
        "    model.add(BatchNormalization())                    \n",
        "    model.add(Activation('relu'))    \n",
        "    model.add(Dense(50))\n",
        "    model.add(BatchNormalization())                    \n",
        "    model.add(Activation('relu'))    \n",
        "    model.add(Dense(10))\n",
        "    model.add(Activation('softmax'))\n",
        "    \n",
        "    sigd = optimizers.SGD(lr = 0.001)\n",
        "    model.compile(optimizer = sigd, loss = 'categorical_crossentropy', metrics = ['accuracy'])\n",
        "    \n",
        "    return model"
      ],
      "execution_count": 0,
      "outputs": []
    },
    {
      "cell_type": "code",
      "metadata": {
        "id": "YqaHP4jhKjIj",
        "colab_type": "code",
        "outputId": "514a926f-2721-499f-9911-f923750e3dd3",
        "colab": {
          "base_uri": "https://localhost:8080/",
          "height": 728
        }
      },
      "source": [
        "model = mlp_model()\n",
        "history = model.fit(X_train, y_train, epochs = 20, verbose = 1)"
      ],
      "execution_count": 0,
      "outputs": [
        {
          "output_type": "stream",
          "text": [
            "Epoch 1/20\n",
            "1313/1313 [==============================] - 9s 7ms/step - loss: 2.3515 - accuracy: 0.1505\n",
            "Epoch 2/20\n",
            "1313/1313 [==============================] - 9s 7ms/step - loss: 2.0918 - accuracy: 0.2606\n",
            "Epoch 3/20\n",
            "1313/1313 [==============================] - 9s 7ms/step - loss: 1.8900 - accuracy: 0.3575\n",
            "Epoch 4/20\n",
            "1313/1313 [==============================] - 9s 7ms/step - loss: 1.7357 - accuracy: 0.4275\n",
            "Epoch 5/20\n",
            "1313/1313 [==============================] - 9s 7ms/step - loss: 1.6116 - accuracy: 0.4764\n",
            "Epoch 6/20\n",
            "1313/1313 [==============================] - 9s 7ms/step - loss: 1.5162 - accuracy: 0.5154\n",
            "Epoch 7/20\n",
            "1313/1313 [==============================] - 9s 7ms/step - loss: 1.4372 - accuracy: 0.5446\n",
            "Epoch 8/20\n",
            "1313/1313 [==============================] - 9s 7ms/step - loss: 1.3679 - accuracy: 0.5696\n",
            "Epoch 9/20\n",
            "1313/1313 [==============================] - 9s 7ms/step - loss: 1.3218 - accuracy: 0.5834\n",
            "Epoch 10/20\n",
            "1313/1313 [==============================] - 9s 7ms/step - loss: 1.2702 - accuracy: 0.6037\n",
            "Epoch 11/20\n",
            "1313/1313 [==============================] - 9s 7ms/step - loss: 1.2313 - accuracy: 0.6135\n",
            "Epoch 12/20\n",
            "1313/1313 [==============================] - 9s 7ms/step - loss: 1.1956 - accuracy: 0.6287\n",
            "Epoch 13/20\n",
            "1313/1313 [==============================] - 9s 7ms/step - loss: 1.1720 - accuracy: 0.6329\n",
            "Epoch 14/20\n",
            "1313/1313 [==============================] - 9s 7ms/step - loss: 1.1467 - accuracy: 0.6416\n",
            "Epoch 15/20\n",
            "1313/1313 [==============================] - 9s 7ms/step - loss: 1.1199 - accuracy: 0.6500\n",
            "Epoch 16/20\n",
            "1313/1313 [==============================] - 9s 7ms/step - loss: 1.0957 - accuracy: 0.6569\n",
            "Epoch 17/20\n",
            "1313/1313 [==============================] - 9s 7ms/step - loss: 1.0719 - accuracy: 0.6638\n",
            "Epoch 18/20\n",
            "1313/1313 [==============================] - 9s 7ms/step - loss: 1.0564 - accuracy: 0.6689\n",
            "Epoch 19/20\n",
            "1313/1313 [==============================] - 9s 7ms/step - loss: 1.0385 - accuracy: 0.6720\n",
            "Epoch 20/20\n",
            "1313/1313 [==============================] - 9s 7ms/step - loss: 1.0231 - accuracy: 0.6779\n"
          ],
          "name": "stdout"
        }
      ]
    },
    {
      "cell_type": "code",
      "metadata": {
        "id": "V_moElVrNguR",
        "colab_type": "code",
        "outputId": "31292f5b-9f9e-4464-b1d3-1b3c0a8d41f5",
        "colab": {
          "base_uri": "https://localhost:8080/",
          "height": 35
        }
      },
      "source": [
        "results = model.evaluate(X_test, y_test)"
      ],
      "execution_count": 0,
      "outputs": [
        {
          "output_type": "stream",
          "text": [
            "563/563 [==============================] - 2s 4ms/step - loss: 0.9948 - accuracy: 0.6884\n"
          ],
          "name": "stdout"
        }
      ]
    },
    {
      "cell_type": "code",
      "metadata": {
        "id": "45tDezRdNlVP",
        "colab_type": "code",
        "outputId": "1a00071d-9d1a-4357-84e3-b5437decf26d",
        "colab": {
          "base_uri": "https://localhost:8080/",
          "height": 35
        }
      },
      "source": [
        "print('Test accuracy: ', results[1])"
      ],
      "execution_count": 0,
      "outputs": [
        {
          "output_type": "stream",
          "text": [
            "Test accuracy:  0.6884444355964661\n"
          ],
          "name": "stdout"
        }
      ]
    },
    {
      "cell_type": "code",
      "metadata": {
        "id": "fG2M1WzYAXfU",
        "colab_type": "code",
        "outputId": "4990fdd1-cb57-44b4-ecfc-fd94fd036f9f",
        "colab": {
          "base_uri": "https://localhost:8080/",
          "height": 748
        }
      },
      "source": [
        "model_history = model.fit(X_train, y_train, batch_size=200, epochs=20, validation_split = 0.1)"
      ],
      "execution_count": 0,
      "outputs": [
        {
          "output_type": "stream",
          "text": [
            "Epoch 1/20\n",
            "189/189 [==============================] - 1s 7ms/step - loss: 0.9180 - accuracy: 0.7144 - val_loss: 0.6928 - val_accuracy: 0.7924\n",
            "Epoch 2/20\n",
            "189/189 [==============================] - 1s 7ms/step - loss: 0.9145 - accuracy: 0.7172 - val_loss: 0.6753 - val_accuracy: 0.7943\n",
            "Epoch 3/20\n",
            "189/189 [==============================] - 1s 7ms/step - loss: 0.9161 - accuracy: 0.7151 - val_loss: 0.7007 - val_accuracy: 0.7838\n",
            "Epoch 4/20\n",
            "189/189 [==============================] - 1s 7ms/step - loss: 0.9077 - accuracy: 0.7184 - val_loss: 0.7175 - val_accuracy: 0.7779\n",
            "Epoch 5/20\n",
            "189/189 [==============================] - 1s 7ms/step - loss: 0.9030 - accuracy: 0.7188 - val_loss: 0.7379 - val_accuracy: 0.7731\n",
            "Epoch 6/20\n",
            "189/189 [==============================] - 1s 7ms/step - loss: 0.9046 - accuracy: 0.7204 - val_loss: 0.7109 - val_accuracy: 0.7812\n",
            "Epoch 7/20\n",
            "189/189 [==============================] - 1s 7ms/step - loss: 0.9002 - accuracy: 0.7219 - val_loss: 0.6819 - val_accuracy: 0.7912\n",
            "Epoch 8/20\n",
            "189/189 [==============================] - 1s 7ms/step - loss: 0.9041 - accuracy: 0.7203 - val_loss: 0.7260 - val_accuracy: 0.7779\n",
            "Epoch 9/20\n",
            "189/189 [==============================] - 1s 7ms/step - loss: 0.9003 - accuracy: 0.7217 - val_loss: 0.6921 - val_accuracy: 0.7874\n",
            "Epoch 10/20\n",
            "189/189 [==============================] - 1s 7ms/step - loss: 0.8994 - accuracy: 0.7203 - val_loss: 0.6615 - val_accuracy: 0.7938\n",
            "Epoch 11/20\n",
            "189/189 [==============================] - 1s 7ms/step - loss: 0.8884 - accuracy: 0.7248 - val_loss: 0.6753 - val_accuracy: 0.7981\n",
            "Epoch 12/20\n",
            "189/189 [==============================] - 1s 7ms/step - loss: 0.8893 - accuracy: 0.7248 - val_loss: 0.7925 - val_accuracy: 0.7410\n",
            "Epoch 13/20\n",
            "189/189 [==============================] - 1s 7ms/step - loss: 0.8954 - accuracy: 0.7229 - val_loss: 0.6863 - val_accuracy: 0.7900\n",
            "Epoch 14/20\n",
            "189/189 [==============================] - 1s 7ms/step - loss: 0.8897 - accuracy: 0.7251 - val_loss: 0.7655 - val_accuracy: 0.7614\n",
            "Epoch 15/20\n",
            "189/189 [==============================] - 1s 7ms/step - loss: 0.8878 - accuracy: 0.7233 - val_loss: 0.7161 - val_accuracy: 0.7781\n",
            "Epoch 16/20\n",
            "189/189 [==============================] - 1s 7ms/step - loss: 0.8859 - accuracy: 0.7248 - val_loss: 0.7162 - val_accuracy: 0.7781\n",
            "Epoch 17/20\n",
            "189/189 [==============================] - 1s 7ms/step - loss: 0.8893 - accuracy: 0.7243 - val_loss: 0.6953 - val_accuracy: 0.7864\n",
            "Epoch 18/20\n",
            "189/189 [==============================] - 1s 7ms/step - loss: 0.8904 - accuracy: 0.7247 - val_loss: 0.6490 - val_accuracy: 0.8050\n",
            "Epoch 19/20\n",
            "189/189 [==============================] - 1s 7ms/step - loss: 0.8801 - accuracy: 0.7282 - val_loss: 0.6703 - val_accuracy: 0.7943\n",
            "Epoch 20/20\n",
            "189/189 [==============================] - 1s 7ms/step - loss: 0.8837 - accuracy: 0.7245 - val_loss: 0.7091 - val_accuracy: 0.7821\n"
          ],
          "name": "stdout"
        }
      ]
    },
    {
      "cell_type": "code",
      "metadata": {
        "id": "L7XQUL7oAddu",
        "colab_type": "code",
        "outputId": "39f93595-cb1d-45f2-a1ba-7498e260e5bc",
        "colab": {
          "base_uri": "https://localhost:8080/",
          "height": 564
        }
      },
      "source": [
        "#Here we plot the performance of the model on the training and validation data.\n",
        "plt.plot(model_history.history[\"accuracy\"])\n",
        "plt.plot(model_history.history['val_accuracy'])\n",
        "plt.title('Accuracy of Batch Normalized Model')\n",
        "plt.ylabel('accuracy')\n",
        "plt.xlabel('epoch')\n",
        "plt.legend(['Train data', 'Validation Data'], loc='bottom right')\n",
        "plt.show()"
      ],
      "execution_count": 0,
      "outputs": [
        {
          "output_type": "stream",
          "text": [
            "/usr/local/lib/python3.6/dist-packages/ipykernel_launcher.py:7: MatplotlibDeprecationWarning: Unrecognized location 'bottom right'. Falling back on 'best'; valid locations are\n",
            "\tbest\n",
            "\tupper right\n",
            "\tupper left\n",
            "\tlower left\n",
            "\tlower right\n",
            "\tright\n",
            "\tcenter left\n",
            "\tcenter right\n",
            "\tlower center\n",
            "\tupper center\n",
            "\tcenter\n",
            "This will raise an exception in 3.3.\n",
            "  import sys\n"
          ],
          "name": "stderr"
        },
        {
          "output_type": "display_data",
          "data": {
            "image/png": "[encoded data removed]",
            "text/plain": [
              "<Figure size 432x288 with 1 Axes>"
            ]
          },
          "metadata": {
            "tags": [],
            "needs_background": "light"
          }
        }
      ]
    },
    {
      "cell_type": "markdown",
      "metadata": {
        "id": "xYch7mTfNtOl",
        "colab_type": "text"
      },
      "source": [
        "## Dropout"
      ]
    },
    {
      "cell_type": "code",
      "metadata": {
        "id": "6ilNZymPN1te",
        "colab_type": "code",
        "colab": {}
      },
      "source": [
        "def mlp_model():\n",
        "    model = Sequential()\n",
        "    \n",
        "    model.add(Dense(50, input_shape = (1024, ), kernel_initializer='he_normal'))\n",
        "    model.add(BatchNormalization())\n",
        "    model.add(Activation('relu'))\n",
        "    model.add(Dropout(0.2))\n",
        "    model.add(Dense(50, kernel_initializer='he_normal'))\n",
        "    model.add(BatchNormalization())\n",
        "    model.add(Activation('relu'))    \n",
        "    model.add(Dropout(0.2))\n",
        "    model.add(Dense(50, kernel_initializer='he_normal'))\n",
        "    model.add(BatchNormalization())\n",
        "    model.add(Activation('relu'))\n",
        "    model.add(Dropout(0.2))\n",
        "    model.add(Dense(50, kernel_initializer='he_normal'))\n",
        "    model.add(BatchNormalization())\n",
        "    model.add(Activation('relu'))\n",
        "    model.add(Dropout(0.2))\n",
        "    model.add(Dense(10, kernel_initializer='he_normal'))\n",
        "    model.add(Activation('softmax'))\n",
        "    \n",
        "    adam = optimizers.Adam(lr = 0.001)\n",
        "    model.compile(optimizer = adam, loss = 'categorical_crossentropy', metrics = ['accuracy'])\n",
        "    \n",
        "    return model"
      ],
      "execution_count": 0,
      "outputs": []
    },
    {
      "cell_type": "code",
      "metadata": {
        "id": "JYCk1QUaOEiN",
        "colab_type": "code",
        "outputId": "125f73e4-18e8-4401-c80e-368a216cdd15",
        "colab": {
          "base_uri": "https://localhost:8080/",
          "height": 728
        }
      },
      "source": [
        "model = mlp_model()\n",
        "history = model.fit(X_train, y_train, epochs = 20, verbose = 1)"
      ],
      "execution_count": 0,
      "outputs": [
        {
          "output_type": "stream",
          "text": [
            "Epoch 1/20\n",
            "1313/1313 [==============================] - 10s 8ms/step - loss: 2.1648 - accuracy: 0.2103\n",
            "Epoch 2/20\n",
            "1313/1313 [==============================] - 10s 7ms/step - loss: 1.7735 - accuracy: 0.3710\n",
            "Epoch 3/20\n",
            "1313/1313 [==============================] - 10s 7ms/step - loss: 1.6015 - accuracy: 0.4493\n",
            "Epoch 4/20\n",
            "1313/1313 [==============================] - 10s 7ms/step - loss: 1.5138 - accuracy: 0.4935\n",
            "Epoch 5/20\n",
            "1313/1313 [==============================] - 10s 8ms/step - loss: 1.4436 - accuracy: 0.5249\n",
            "Epoch 6/20\n",
            "1313/1313 [==============================] - 10s 7ms/step - loss: 1.3992 - accuracy: 0.5450\n",
            "Epoch 7/20\n",
            "1313/1313 [==============================] - 10s 7ms/step - loss: 1.3715 - accuracy: 0.5537\n",
            "Epoch 8/20\n",
            "1313/1313 [==============================] - 10s 7ms/step - loss: 1.3379 - accuracy: 0.5680\n",
            "Epoch 9/20\n",
            "1313/1313 [==============================] - 10s 7ms/step - loss: 1.3000 - accuracy: 0.5832\n",
            "Epoch 10/20\n",
            "1313/1313 [==============================] - 10s 7ms/step - loss: 1.2864 - accuracy: 0.5888\n",
            "Epoch 11/20\n",
            "1313/1313 [==============================] - 10s 7ms/step - loss: 1.2657 - accuracy: 0.5982\n",
            "Epoch 12/20\n",
            "1313/1313 [==============================] - 10s 7ms/step - loss: 1.2444 - accuracy: 0.6038\n",
            "Epoch 13/20\n",
            "1313/1313 [==============================] - 10s 7ms/step - loss: 1.2288 - accuracy: 0.6123\n",
            "Epoch 14/20\n",
            "1313/1313 [==============================] - 10s 7ms/step - loss: 1.2254 - accuracy: 0.6145\n",
            "Epoch 15/20\n",
            "1313/1313 [==============================] - 10s 7ms/step - loss: 1.2122 - accuracy: 0.6170\n",
            "Epoch 16/20\n",
            "1313/1313 [==============================] - 10s 7ms/step - loss: 1.1913 - accuracy: 0.6254\n",
            "Epoch 17/20\n",
            "1313/1313 [==============================] - 10s 7ms/step - loss: 1.1936 - accuracy: 0.6245\n",
            "Epoch 18/20\n",
            "1313/1313 [==============================] - 10s 7ms/step - loss: 1.1828 - accuracy: 0.6279\n",
            "Epoch 19/20\n",
            "1313/1313 [==============================] - 10s 7ms/step - loss: 1.1765 - accuracy: 0.6306\n",
            "Epoch 20/20\n",
            "1313/1313 [==============================] - 10s 7ms/step - loss: 1.1778 - accuracy: 0.6291\n"
          ],
          "name": "stdout"
        }
      ]
    },
    {
      "cell_type": "code",
      "metadata": {
        "id": "HKaETGTbO2aB",
        "colab_type": "code",
        "outputId": "cd6eb360-dc91-459f-9da5-02cbe3d90e34",
        "colab": {
          "base_uri": "https://localhost:8080/",
          "height": 35
        }
      },
      "source": [
        "results = model.evaluate(X_test, y_test)"
      ],
      "execution_count": 0,
      "outputs": [
        {
          "output_type": "stream",
          "text": [
            "563/563 [==============================] - 2s 4ms/step - loss: 0.8462 - accuracy: 0.7476\n"
          ],
          "name": "stdout"
        }
      ]
    },
    {
      "cell_type": "code",
      "metadata": {
        "id": "0nn65qczO7dS",
        "colab_type": "code",
        "outputId": "21e13ead-403e-4289-e250-6be3c7764694",
        "colab": {
          "base_uri": "https://localhost:8080/",
          "height": 35
        }
      },
      "source": [
        "print('Test accuracy: ', results[1])"
      ],
      "execution_count": 0,
      "outputs": [
        {
          "output_type": "stream",
          "text": [
            "Test accuracy:  0.7476111054420471\n"
          ],
          "name": "stdout"
        }
      ]
    },
    {
      "cell_type": "code",
      "metadata": {
        "id": "1oAWDGGvBgVc",
        "colab_type": "code",
        "outputId": "6f4d5c2a-29ab-4bcb-9018-c1c1115b9bf6",
        "colab": {
          "base_uri": "https://localhost:8080/",
          "height": 748
        }
      },
      "source": [
        "model_history = model.fit(X_train, y_train, batch_size=200, epochs=20, validation_split = 0.1)"
      ],
      "execution_count": 0,
      "outputs": [
        {
          "output_type": "stream",
          "text": [
            "Epoch 1/20\n",
            "189/189 [==============================] - 1s 8ms/step - loss: 0.9824 - accuracy: 0.6978 - val_loss: 0.6951 - val_accuracy: 0.7912\n",
            "Epoch 2/20\n",
            "189/189 [==============================] - 1s 7ms/step - loss: 0.9568 - accuracy: 0.7059 - val_loss: 0.6803 - val_accuracy: 0.7914\n",
            "Epoch 3/20\n",
            "189/189 [==============================] - 1s 7ms/step - loss: 0.9549 - accuracy: 0.7072 - val_loss: 0.6833 - val_accuracy: 0.7910\n",
            "Epoch 4/20\n",
            "189/189 [==============================] - 1s 7ms/step - loss: 0.9458 - accuracy: 0.7072 - val_loss: 0.6669 - val_accuracy: 0.7979\n",
            "Epoch 5/20\n",
            "189/189 [==============================] - 1s 7ms/step - loss: 0.9360 - accuracy: 0.7109 - val_loss: 0.7277 - val_accuracy: 0.7755\n",
            "Epoch 6/20\n",
            "189/189 [==============================] - 1s 7ms/step - loss: 0.9413 - accuracy: 0.7106 - val_loss: 0.6781 - val_accuracy: 0.7948\n",
            "Epoch 7/20\n",
            "189/189 [==============================] - 1s 7ms/step - loss: 0.9343 - accuracy: 0.7135 - val_loss: 0.6759 - val_accuracy: 0.7881\n",
            "Epoch 8/20\n",
            "189/189 [==============================] - 1s 7ms/step - loss: 0.9310 - accuracy: 0.7128 - val_loss: 0.6787 - val_accuracy: 0.7898\n",
            "Epoch 9/20\n",
            "189/189 [==============================] - 1s 7ms/step - loss: 0.9335 - accuracy: 0.7128 - val_loss: 0.6865 - val_accuracy: 0.7945\n",
            "Epoch 10/20\n",
            "189/189 [==============================] - 1s 7ms/step - loss: 0.9361 - accuracy: 0.7121 - val_loss: 0.7253 - val_accuracy: 0.7764\n",
            "Epoch 11/20\n",
            "189/189 [==============================] - 1s 7ms/step - loss: 0.9340 - accuracy: 0.7126 - val_loss: 0.6840 - val_accuracy: 0.7886\n",
            "Epoch 12/20\n",
            "189/189 [==============================] - 1s 7ms/step - loss: 0.9218 - accuracy: 0.7172 - val_loss: 0.7596 - val_accuracy: 0.7640\n",
            "Epoch 13/20\n",
            "189/189 [==============================] - 1s 7ms/step - loss: 0.9255 - accuracy: 0.7154 - val_loss: 0.6861 - val_accuracy: 0.7893\n",
            "Epoch 14/20\n",
            "189/189 [==============================] - 1s 7ms/step - loss: 0.9278 - accuracy: 0.7150 - val_loss: 0.7104 - val_accuracy: 0.7698\n",
            "Epoch 15/20\n",
            "189/189 [==============================] - 1s 7ms/step - loss: 0.9177 - accuracy: 0.7169 - val_loss: 0.7243 - val_accuracy: 0.7712\n",
            "Epoch 16/20\n",
            "189/189 [==============================] - 1s 7ms/step - loss: 0.9158 - accuracy: 0.7183 - val_loss: 0.7317 - val_accuracy: 0.7721\n",
            "Epoch 17/20\n",
            "189/189 [==============================] - 1s 7ms/step - loss: 0.9201 - accuracy: 0.7170 - val_loss: 0.7067 - val_accuracy: 0.7821\n",
            "Epoch 18/20\n",
            "189/189 [==============================] - 1s 7ms/step - loss: 0.9137 - accuracy: 0.7163 - val_loss: 0.6688 - val_accuracy: 0.7902\n",
            "Epoch 19/20\n",
            "189/189 [==============================] - 1s 7ms/step - loss: 0.9153 - accuracy: 0.7192 - val_loss: 0.7020 - val_accuracy: 0.7821\n",
            "Epoch 20/20\n",
            "189/189 [==============================] - 1s 7ms/step - loss: 0.9173 - accuracy: 0.7163 - val_loss: 0.6855 - val_accuracy: 0.7888\n"
          ],
          "name": "stdout"
        }
      ]
    },
    {
      "cell_type": "code",
      "metadata": {
        "id": "0_BvHtMjBqjF",
        "colab_type": "code",
        "outputId": "81379e60-0d23-4485-8cdd-f6ea1f402462",
        "colab": {
          "base_uri": "https://localhost:8080/",
          "height": 564
        }
      },
      "source": [
        "#Here we plot the performance of the model on the training and validation data.\n",
        "plt.plot(model_history.history[\"accuracy\"])\n",
        "plt.plot(model_history.history['val_accuracy'])\n",
        "plt.title('Accuracy of Batch Normalized Model')\n",
        "plt.ylabel('accuracy')\n",
        "plt.xlabel('epoch')\n",
        "plt.legend(['Train data', 'Validation Data'], loc='bottom right')\n",
        "plt.show()"
      ],
      "execution_count": 0,
      "outputs": [
        {
          "output_type": "stream",
          "text": [
            "/usr/local/lib/python3.6/dist-packages/ipykernel_launcher.py:7: MatplotlibDeprecationWarning: Unrecognized location 'bottom right'. Falling back on 'best'; valid locations are\n",
            "\tbest\n",
            "\tupper right\n",
            "\tupper left\n",
            "\tlower left\n",
            "\tlower right\n",
            "\tright\n",
            "\tcenter left\n",
            "\tcenter right\n",
            "\tlower center\n",
            "\tupper center\n",
            "\tcenter\n",
            "This will raise an exception in 3.3.\n",
            "  import sys\n"
          ],
          "name": "stderr"
        },
        {
          "output_type": "display_data",
          "data": {
            "image/png": "[encoded data removed]",
            "text/plain": [
              "<Figure size 432x288 with 1 Axes>"
            ]
          },
          "metadata": {
            "tags": [],
            "needs_background": "light"
          }
        }
      ]
    },
    {
      "cell_type": "markdown",
      "metadata": {
        "id": "sqgGOh_yRdIn",
        "colab_type": "text"
      },
      "source": [
        "## Conclusion\n",
        "We built a neural network model using the network classifiers - Feed Forwrad, ReLU and Sigmoid activations. We trained the model using batch normalization and achieved an accuracy of 68.8% on test data, 72.2% on training data and 78.2% on validation data using 20 epochs. We dropped the weights and acieved an model accuracy of 74.76% on test data, 71% on training data and 78% on validation data using 20 epochs."
      ]
    }
  ]
}